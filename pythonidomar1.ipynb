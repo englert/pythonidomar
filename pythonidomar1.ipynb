{
  "nbformat": 4,
  "nbformat_minor": 0,
  "metadata": {
    "colab": {
      "name": "pythonidomar1.ipynb",
      "provenance": [],
      "include_colab_link": true
    },
    "kernelspec": {
      "name": "python3",
      "display_name": "Python 3"
    }
  },
  "cells": [
    {
      "cell_type": "markdown",
      "metadata": {
        "id": "view-in-github",
        "colab_type": "text"
      },
      "source": [
        "<a href=\"https://colab.research.google.com/github/englert/pythonidomar/blob/master/pythonidomar1.ipynb\" target=\"_parent\"><img src=\"https://colab.research.google.com/assets/colab-badge.svg\" alt=\"Open In Colab\"/></a>"
      ]
    },
    {
      "cell_type": "markdown",
      "metadata": {
        "id": "CFhduKe221i9",
        "colab_type": "text"
      },
      "source": [
        "# F0001a: \n",
        "Mi történik, ha lefuttatjuk ezt a programot? A program futtatása nélkül fogalmazd meg magadnak – aztán persze lefuttathatod, hogy lásd, igazad volt-e:)\n",
        "```\n",
        "print('...Hogyha én ezt tudtam volna)\n",
        "print('Köpönyeget hoztam vóna'!\n",
        "```\n"
      ]
    },
    {
      "cell_type": "code",
      "metadata": {
        "id": "V-6sh5Zi3X4x",
        "colab_type": "code",
        "colab": {}
      },
      "source": [
        ""
      ],
      "execution_count": 0,
      "outputs": []
    },
    {
      "cell_type": "markdown",
      "metadata": {
        "id": "oa40BVIY3d4D",
        "colab_type": "text"
      },
      "source": [
        "# F0002a: \n",
        "Melyik állat nevét nem írja ki a program? \n",
        "```\n",
        "cica = 'kutya'\n",
        "kutya = 'egér'\n",
        "egér = 'cica'\n",
        "print(cica)\n",
        "print('kutya')\n",
        "print(egér)\n",
        "print('cica')\n",
        "```\n"
      ]
    },
    {
      "cell_type": "code",
      "metadata": {
        "id": "T7-Ys_6W4szz",
        "colab_type": "code",
        "colab": {}
      },
      "source": [
        ""
      ],
      "execution_count": 0,
      "outputs": []
    },
    {
      "cell_type": "markdown",
      "metadata": {
        "id": "GwU5QaR-4vQ1",
        "colab_type": "text"
      },
      "source": [
        "# F0002b: \n",
        "Mi lesz kiírva a program kimenetének utolsó sorában?\n",
        "\n",
        "```\n",
        "cica = 'kutya'\n",
        "print(cica)\n",
        "kutya = 'egér'\n",
        "egér = 'cica'\n",
        "print('kutya')\n",
        "cica = 'tyúk'\n",
        "print(egér)\n",
        "kutya = cica\n",
        "print('kutya')\n",
        "print(kutya)\n",
        "```"
      ]
    },
    {
      "cell_type": "code",
      "metadata": {
        "id": "jE5_y0LB4-0J",
        "colab_type": "code",
        "colab": {}
      },
      "source": [
        ""
      ],
      "execution_count": 0,
      "outputs": []
    },
    {
      "cell_type": "markdown",
      "metadata": {
        "id": "Ss5W9mha5BP2",
        "colab_type": "text"
      },
      "source": [
        "# F0002c: \n",
        "Hány sornyi kiírás, azaz szöveg és üres sor kerül a képernyőre, ha majd egyszer lefuttatod ezt a programot?\n",
        "```\n",
        "print('Első sor\\n')\n",
        "print('\\nNos?')\n",
        "print('Azaz?\\n')\n",
        "print('\\nAkkor most mennyi?\\n\\n')\n",
        "print('Utolsó sor')\n",
        "```\n"
      ]
    },
    {
      "cell_type": "code",
      "metadata": {
        "id": "bivIL70N5P2e",
        "colab_type": "code",
        "colab": {}
      },
      "source": [
        ""
      ],
      "execution_count": 0,
      "outputs": []
    },
    {
      "cell_type": "markdown",
      "metadata": {
        "id": "4e8VIdtb53hv",
        "colab_type": "text"
      },
      "source": [
        "# F0002d:\n",
        "Rajzold ki egyetlen print() utasítással az alábbi ábrát! <br>\n",
        "![alt text](https://pythonidomar.files.wordpress.com/2016/09/f0002d.png)<br>\n",
        "[F0002d megoldása:](https://youtu.be/wr51t5Op-tU)"
      ]
    },
    {
      "cell_type": "code",
      "metadata": {
        "id": "3PekQqgr6lli",
        "colab_type": "code",
        "colab": {}
      },
      "source": [
        ""
      ],
      "execution_count": 0,
      "outputs": []
    },
    {
      "cell_type": "markdown",
      "metadata": {
        "id": "SgjkvHSd7K25",
        "colab_type": "text"
      },
      "source": [
        "# F0002e:\n",
        "Ha visszapert (backslash, “\\”) akarunk kiírni a print()-tel, akkor az utasításban két visszapert kell írnunk, mert az első arra jó, hogy levédje az utána álló karaktert, mint a \\n esetén már láttad. <br>\n",
        "Rajzold ki egyetlen print() utasítással az alábbi ábrát!<br>\n",
        "![alt text](https://pythonidomar.files.wordpress.com/2016/09/f0002e-e1475992396629.png) <br>\n",
        "[F0002e megoldása:](https://youtu.be/1DyqkMK2T6M)"
      ]
    },
    {
      "cell_type": "code",
      "metadata": {
        "id": "rp0M-mKf8bRv",
        "colab_type": "code",
        "colab": {}
      },
      "source": [
        ""
      ],
      "execution_count": 0,
      "outputs": []
    },
    {
      "cell_type": "markdown",
      "metadata": {
        "id": "aeKXhRQi96hA",
        "colab_type": "text"
      },
      "source": [
        "# F0002f:\n",
        "Rajzold ki egyetlen print() utasítással az alábbi ábrát! <br>\n",
        "![alt text](https://pythonidomar.files.wordpress.com/2016/09/f0002f.png)<br>\n",
        "[F0002f megoldása:](https://youtu.be/CRxEAYOMMJc)\n",
        "\n"
      ]
    },
    {
      "cell_type": "code",
      "metadata": {
        "id": "mTWY19i_-z42",
        "colab_type": "code",
        "colab": {}
      },
      "source": [
        ""
      ],
      "execution_count": 0,
      "outputs": []
    },
    {
      "cell_type": "markdown",
      "metadata": {
        "id": "1w7iDI2T-f8W",
        "colab_type": "text"
      },
      "source": [
        "# F0003a:\n",
        "Írj programot, amely külön-külön megkérdi a vezeték- és a keresztneved, majd kiírja őket egy mondatban, pl: A te neved Kovács Boldizsár. (A pontot se felejtsd el!) <br>\n",
        "[F0003 megoldása](https://youtu.be/40etx_UcO3M)"
      ]
    },
    {
      "cell_type": "code",
      "metadata": {
        "id": "cy5JE_lj_sHC",
        "colab_type": "code",
        "colab": {}
      },
      "source": [
        ""
      ],
      "execution_count": 0,
      "outputs": []
    },
    {
      "cell_type": "markdown",
      "metadata": {
        "id": "im-9JoWs_zzN",
        "colab_type": "text"
      },
      "source": [
        "# F0003b:\n",
        " Bővítsd az előző programot úgy, hogy a kiírás előtt kérdezze meg a születési évedet és a csillagjegyedet, és az előző feladatban megadott mondat után ezt is közölje veled. <br>\n",
        "[link text](https://youtu.be/jRxFStlXA5E)"
      ]
    },
    {
      "cell_type": "code",
      "metadata": {
        "id": "dOzWYlRiAF_9",
        "colab_type": "code",
        "colab": {}
      },
      "source": [
        ""
      ],
      "execution_count": 0,
      "outputs": []
    }
  ]
}